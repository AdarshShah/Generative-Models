{
 "cells": [
  {
   "cell_type": "code",
   "execution_count": null,
   "metadata": {
    "notebookRunGroups": {
     "groupValue": "12"
    }
   },
   "outputs": [],
   "source": [
    "from DDPM import img_dataset, mu, model, sample, device, np, timesteps, alpha, alpha_bar, beta, sample100, sample_with_history, guided_sample, save_image\n",
    "from SimpleUnet import UNet\n",
    "from matplotlib import pyplot as plt\n",
    "import torch"
   ]
  },
  {
   "cell_type": "code",
   "execution_count": 3,
   "metadata": {
    "notebookRunGroups": {
     "groupValue": "2"
    }
   },
   "outputs": [],
   "source": [
    "model = UNet(image_channels=3, n_channels=64, ch_mults=(1,2,2,4), is_attn=(False, False, False, False), n_blocks=2).to(device)\n",
    "# for i in range(75):\n",
    "#     model.load_state_dict(torch.load(f'/home/adarsh/ADRL/assignment_2/Diffusion/models/bitmoji/diff_{i}.pth'))\n",
    "# # model = UNet(image_channels=3, n_channels=64, ch_mults=(1,2,2,4), is_attn=(False, False, False, False), n_blocks=2).to(device)\n",
    "#     img = sample(model, 100, size=64)\n",
    "#     save_image(img,f'/home/adarsh/ADRL/assignment_2/Diffusion/results/bitmoji/diff_{0}.png', nrow=10, normalize=True)\n",
    "# # sample_with_history(model,f'/home/adarsh/ADRL/assignment_2/Diffusion/results/celebA/celebA_langevin.png', size=64)\n",
    "model.load_state_dict(torch.load(f'/home/adarsh/ADRL/assignment_2/Diffusion/models/bitmoji_final.pth'))\n",
    "for i in range(1000):\n",
    "    img = sample(model, 1, size=64)\n",
    "    save_image(img,f'/home/adarsh/ADRL/assignment_2/Diffusion/results/bitmoji_fake/{i}.png', normalize=True)"
   ]
  },
  {
   "cell_type": "code",
   "execution_count": null,
   "metadata": {
    "notebookRunGroups": {
     "groupValue": "1"
    }
   },
   "outputs": [],
   "source": [
    "model = UNet(image_channels=3, n_channels=64, ch_mults=(1,2,4,4), is_attn=(False, False, True, True), n_blocks=1, num_classes=10).to(device)\n",
    "attr = 'Bald  Bangs  Big_Lips  Black_Hair  Brown_Hair  Eyeglasses  Gray_Hair  Mustache  Receding_Hairline  Wearing_Hat'.split()\n",
    "for i in range(1):\n",
    "    images = []\n",
    "    for j in range(0,10):\n",
    "        model.load_state_dict(torch.load(f'/home/adarsh/ADRL/assignment_2/Diffusion/models/guided_celebA/diff_{i}.pth'))\n",
    "        img = guided_sample(model, 5, torch.LongTensor([j]).to(device), 1, size=64)\n",
    "        save_image(img,f'/home/adarsh/ADRL/assignment_2/Diffusion/results/guided_celebA/{attr[j]}/diff_{i}.png', nrow=5, normalize=True)"
   ]
  }
 ],
 "metadata": {
  "kernelspec": {
   "display_name": "Python 3",
   "language": "python",
   "name": "python3"
  },
  "language_info": {
   "codemirror_mode": {
    "name": "ipython",
    "version": 3
   },
   "file_extension": ".py",
   "mimetype": "text/x-python",
   "name": "python",
   "nbconvert_exporter": "python",
   "pygments_lexer": "ipython3",
   "version": "3.8.13"
  },
  "orig_nbformat": 4,
  "vscode": {
   "interpreter": {
    "hash": "35c8a66ee3e6b3d2731e4e1d203879b7efbef813706e5767cef09de0fdb5c447"
   }
  }
 },
 "nbformat": 4,
 "nbformat_minor": 2
}
