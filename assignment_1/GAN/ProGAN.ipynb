{
 "cells": [
  {
   "cell_type": "code",
   "execution_count": 1,
   "metadata": {},
   "outputs": [
    {
     "name": "stderr",
     "output_type": "stream",
     "text": [
      "/home/adarsh/anaconda3/envs/mtech-ai/lib/python3.8/site-packages/tqdm/auto.py:22: TqdmWarning: IProgress not found. Please update jupyter and ipywidgets. See https://ipywidgets.readthedocs.io/en/stable/user_install.html\n",
      "  from .autonotebook import tqdm as notebook_tqdm\n"
     ]
    }
   ],
   "source": [
    "import torch\n",
    "from torch.nn import Upsample, AvgPool3d ,AvgPool2d, Module, Sequential, ModuleList, Conv2d, MaxPool2d, Tanh, ReLU, LeakyReLU, Flatten, Linear, Sigmoid, ConvTranspose2d, BatchNorm2d\n",
    "from torchvision import datasets, transforms\n",
    "from torch.utils.data import Subset, DataLoader\n",
    "from tqdm import tqdm\n",
    "from matplotlib import pyplot as plt\n",
    "from torchsummary import summary\n",
    "from torch.nn.utils import spectral_norm\n",
    "\n",
    "torch.autograd.set_detect_anomaly(True)\n",
    "\n",
    "# Initialization parameters\n",
    "device = 'cuda:0'\n",
    "datapath = '/home/adarsh/ADRL/datasets/bitmoji_faces'\n",
    "modelpath = '/home/adarsh/ADRL/assignment_1/GAN/proGAN.pt'\n",
    "modelpath2 = '/home/adarsh/ADRL/assignment_1/GAN/proGAN_l2.pt'\n",
    "modelpath3 = '/home/adarsh/ADRL/assignment_1/GAN/proGAN_l3.pt'"
   ]
  },
  {
   "cell_type": "code",
   "execution_count": 3,
   "metadata": {},
   "outputs": [
    {
     "name": "stdout",
     "output_type": "stream",
     "text": [
      "----------------------------------------------------------------\n",
      "        Layer (type)               Output Shape         Param #\n",
      "================================================================\n",
      "   ConvTranspose2d-1            [-1, 512, 4, 4]       4,194,816\n",
      "            Conv2d-2            [-1, 512, 4, 4]       2,359,808\n",
      "            Conv2d-3            [-1, 512, 4, 4]       2,359,808\n",
      "   ConvTranspose2d-4            [-1, 512, 8, 8]       1,049,088\n",
      "            Conv2d-5            [-1, 512, 8, 8]       2,359,808\n",
      "       BatchNorm2d-6            [-1, 512, 8, 8]           1,024\n",
      "            Conv2d-7            [-1, 512, 8, 8]       2,359,808\n",
      "       BatchNorm2d-8            [-1, 512, 8, 8]           1,024\n",
      "    GeneratorBlock-9            [-1, 512, 8, 8]               0\n",
      "           Conv2d-10              [-1, 3, 8, 8]           1,539\n",
      "         Upsample-11            [-1, 512, 8, 8]               0\n",
      "           Conv2d-12            [-1, 512, 8, 8]         262,144\n",
      "           Conv2d-13              [-1, 3, 8, 8]           1,539\n",
      "================================================================\n",
      "Total params: 14,950,406\n",
      "Trainable params: 14,950,406\n",
      "Non-trainable params: 0\n",
      "----------------------------------------------------------------\n",
      "Input size (MB): 0.00\n",
      "Forward/backward pass size (MB): 2.19\n",
      "Params size (MB): 57.03\n",
      "Estimated Total Size (MB): 59.22\n",
      "----------------------------------------------------------------\n"
     ]
    }
   ],
   "source": [
    "class GeneratorBlock(Module):\n",
    "\n",
    "    def __init__(self, in_channels, out_channels) -> None:\n",
    "        super(GeneratorBlock, self).__init__()\n",
    "        self.conv1 = ConvTranspose2d(in_channels, out_channels, 2, 2)\n",
    "        self.conv2 = Conv2d(out_channels, out_channels, 3, padding=1)\n",
    "        self.bn1 = BatchNorm2d(out_channels)\n",
    "        self.conv3 = Conv2d(out_channels, out_channels, 3, padding=1)\n",
    "        self.bn2 = BatchNorm2d(out_channels)\n",
    "    \n",
    "    def forward(self, input):\n",
    "        h = self.conv1(input)\n",
    "        h = torch.nn.functional.leaky_relu(self.bn1(self.conv2(h)), 0.2, True)\n",
    "        h = torch.nn.functional.leaky_relu(self.bn2(self.conv3(h)), 0.2, True)\n",
    "        return h\n",
    "\n",
    "class Generator(Module):\n",
    "\n",
    "    def __init__(self) -> None:\n",
    "        super(Generator, self).__init__()\n",
    "        self.conv1 = ConvTranspose2d(512, 512, 4, 4)\n",
    "        self.conv2 = Conv2d(512, 512, 3, padding=1)\n",
    "        self.conv3 = Conv2d(512, 512, 3, padding=1)\n",
    "        self.blocks = ModuleList()\n",
    "        self.rgb = Conv2d(512, 3, 1)\n",
    "        self.upsample = Upsample((512, 1, 1))\n",
    "    \n",
    "    def forward(self, input, alpha=1):\n",
    "        h = self.conv1(input)\n",
    "        h = torch.nn.functional.leaky_relu(self.conv2(h), 0.2, True)\n",
    "        h = torch.nn.functional.leaky_relu(self.conv3(h), 0.2, True)\n",
    "        if len(self.blocks)>0:\n",
    "            [ h:= layer(h) for layer in self.blocks[:-1] ]\n",
    "            h = alpha*torch.tanh(self.rgb(self.blocks[-1](h))) + (1-alpha)*torch.tanh(self.rgb(self.upconv(self.upsample(h))))\n",
    "        else:\n",
    "            h = torch.tanh(self.rgb(h))\n",
    "        return h\n",
    "    \n",
    "    def add_block(self, in_channels, out_channels, size):\n",
    "        self.rgb = Conv2d(out_channels, 3, 1, 1).to(device)\n",
    "        self.upsample = Upsample((size, size)).to(device)\n",
    "        self.upconv = Conv2d(in_channels, out_channels, 1, bias=False).to(device)\n",
    "        self.blocks.append(GeneratorBlock(in_channels, out_channels).to(device))\n",
    "        pass\n",
    "\n",
    "model = Generator()\n",
    "model.add_block(512, 512, 8)\n",
    "summary(model.cuda(),(512,1,1))"
   ]
  },
  {
   "cell_type": "code",
   "execution_count": 4,
   "metadata": {},
   "outputs": [
    {
     "name": "stdout",
     "output_type": "stream",
     "text": [
      "----------------------------------------------------------------\n",
      "        Layer (type)               Output Shape         Param #\n",
      "================================================================\n",
      "            Conv2d-1            [-1, 512, 8, 8]           2,048\n",
      "         AvgPool3d-2            [-1, 512, 4, 4]               0\n",
      "            Conv2d-3            [-1, 512, 8, 8]       2,359,808\n",
      "            Conv2d-4            [-1, 512, 8, 8]       2,359,808\n",
      "         AvgPool2d-5            [-1, 512, 4, 4]               0\n",
      "DiscriminatorBlock-6            [-1, 512, 4, 4]               0\n",
      "            Conv2d-7            [-1, 512, 1, 1]       4,194,816\n",
      "            Conv2d-8            [-1, 512, 1, 1]         262,656\n",
      "           Flatten-9                  [-1, 512]               0\n",
      "           Linear-10                    [-1, 1]             512\n",
      "================================================================\n",
      "Total params: 9,179,648\n",
      "Trainable params: 9,179,648\n",
      "Non-trainable params: 0\n",
      "----------------------------------------------------------------\n",
      "Input size (MB): 0.00\n",
      "Forward/backward pass size (MB): 0.95\n",
      "Params size (MB): 35.02\n",
      "Estimated Total Size (MB): 35.97\n",
      "----------------------------------------------------------------\n"
     ]
    }
   ],
   "source": [
    "class DiscriminatorBlock(Module):\n",
    "\n",
    "    def __init__(self, in_channels, out_channels) -> None:\n",
    "        super(DiscriminatorBlock, self).__init__()\n",
    "        self.conv1 = spectral_norm(Conv2d(in_channels, in_channels, 3, padding=1))\n",
    "        self.conv2 = spectral_norm(Conv2d(in_channels, out_channels, 3, padding=1))\n",
    "        self.pooling = AvgPool2d(2, 2)\n",
    "    \n",
    "    def forward(self, h):\n",
    "        h = torch.nn.functional.leaky_relu(self.conv1(h), 0.2, True)\n",
    "        h = torch.nn.functional.leaky_relu(self.conv2(h), 0.2, True)\n",
    "        return self.pooling(h)\n",
    "\n",
    "class Discriminator(Module):\n",
    "\n",
    "    def __init__(self) -> None:\n",
    "        super(Discriminator, self).__init__()\n",
    "        self.rgb = spectral_norm(Conv2d(3, 512, 1, 1))\n",
    "        self.pool = AvgPool3d(1)\n",
    "        self.conv1 = spectral_norm(Conv2d(512, 512, 4, 4))\n",
    "        self.conv2 = spectral_norm(Conv2d(512, 512, 1, 1))\n",
    "        self.blocks = ModuleList()\n",
    "        self.flatten = Flatten()\n",
    "        self.linear = spectral_norm(Linear(512, 1, bias=False))\n",
    "\n",
    "    def forward(self, input, alpha=1):\n",
    "        h1 = torch.nn.functional.leaky_relu(self.rgb(input), 0.2, True)\n",
    "        h2 = self.pool(h1)\n",
    "        if len(self.blocks) > 0:\n",
    "            h = alpha*self.blocks[-1](h1) + (1-alpha)*h2\n",
    "            [ h:= layer(h) for layer in self.blocks[:-1] ]\n",
    "        else:\n",
    "            h = h1\n",
    "        h = torch.nn.functional.leaky_relu(self.conv1(h), 0.2, True)\n",
    "        h = torch.nn.functional.leaky_relu(self.conv2(h), 0.2, True)\n",
    "        h = torch.sigmoid(self.linear(self.flatten(h)))\n",
    "        return h\n",
    "    \n",
    "    def add_block(self, in_channels, out_channels):\n",
    "        self.rgb = spectral_norm(Conv2d(3, in_channels, 1, 1)).to(device)\n",
    "        kernel = in_channels/out_channels\n",
    "        self.pool = AvgPool3d((int(kernel),2,2)).to(device)\n",
    "        self.blocks.append(DiscriminatorBlock(in_channels, out_channels).to(device))\n",
    "\n",
    "model = Discriminator()\n",
    "model.add_block(512, 512)\n",
    "summary(model.cuda(),(3,8,8))"
   ]
  },
  {
   "cell_type": "code",
   "execution_count": 5,
   "metadata": {},
   "outputs": [],
   "source": [
    "def sample(k):\n",
    "    return torch.randn((k, 512, 1, 1)).to(device)\n",
    "\n",
    "def discriminator_epoch(model, x, z, optim, alpha=0.2):\n",
    "    '''\n",
    "        Discriminator Loss:\n",
    "        maximize f = E[log(1-D(G(z)))] + E[log(D(x))]\n",
    "    '''\n",
    "    loss = (model[0](model[1](z, alpha), alpha) - model[0](x,alpha)).mean()\n",
    "    optim.zero_grad()\n",
    "    loss.backward()\n",
    "    optim.step()\n",
    "    # with torch.no_grad():\n",
    "    #     for param in model[0].parameters():\n",
    "    #         param.clamp_(-0.1, 0.1)\n",
    "    return loss\n",
    "\n",
    "\n",
    "def generator_epoch(model, X, z, optim, alpha=0.2):\n",
    "    '''\n",
    "        Generator Loss:\n",
    "        minimize f = E[log(1-D(G(z)))]\n",
    "    '''\n",
    "    loss = -model[0](model[1](z,alpha),alpha).mean()\n",
    "    optim.zero_grad()\n",
    "    loss.backward()\n",
    "    optim.step()\n",
    "    return loss"
   ]
  },
  {
   "cell_type": "code",
   "execution_count": 6,
   "metadata": {},
   "outputs": [
    {
     "name": "stdout",
     "output_type": "stream",
     "text": [
      "incorrect modelpath\n"
     ]
    }
   ],
   "source": [
    "bitmoji_transform = transforms.Compose([transforms.Resize((4,4)), transforms.ToTensor()])\n",
    "bitmoji_transform_2 = transforms.Compose([transforms.Resize((8,8)), transforms.ToTensor()])\n",
    "\n",
    "dataset = datasets.ImageFolder(root=datapath, transform=bitmoji_transform)\n",
    "dataset_2 = datasets.ImageFolder(root=datapath, transform=bitmoji_transform_2)\n",
    "\n",
    "train_dataset = Subset(dataset, torch.arange(300))\n",
    "\n",
    "model = Sequential(Discriminator(), Generator()).to(device)\n",
    "\n",
    "try:\n",
    "    model.load_state_dict(torch.load(modelpath))\n",
    "except:\n",
    "    print('incorrect modelpath')"
   ]
  },
  {
   "cell_type": "code",
   "execution_count": 22,
   "metadata": {},
   "outputs": [
    {
     "data": {
      "image/png": "[encoded data removed]",
      "text/plain": [
       "<Figure size 432x288 with 1 Axes>"
      ]
     },
     "metadata": {
      "needs_background": "light"
     },
     "output_type": "display_data"
    }
   ],
   "source": [
    "Y = model[1](sample(1)).squeeze()\n",
    "plt.imshow(Y.detach().cpu().mean(dim=0).squeeze(),'gray')\n",
    "plt.show()"
   ]
  },
  {
   "cell_type": "code",
   "execution_count": 9,
   "metadata": {},
   "outputs": [
    {
     "data": {
      "image/png": "[encoded data removed]",
      "text/plain": [
       "<Figure size 432x288 with 1 Axes>"
      ]
     },
     "metadata": {
      "needs_background": "light"
     },
     "output_type": "display_data"
    }
   ],
   "source": [
    "plt.imshow(dataset[5346][0].mean(dim=0).squeeze(),'gray')\n",
    "plt.show()"
   ]
  },
  {
   "cell_type": "code",
   "execution_count": 10,
   "metadata": {},
   "outputs": [
    {
     "name": "stderr",
     "output_type": "stream",
     "text": [
      "Epoch 1 : : 100%|█████████▉| 508/509 [02:21<00:00,  3.58it/s, loss=(-0.013406169600784779, -0.5231168270111084)]  \n"
     ]
    }
   ],
   "source": [
    "i = 0\n",
    "batch_size = 256\n",
    "train_dataloader = DataLoader(dataset, batch_size=batch_size)\n",
    "optim_generator = torch.optim.Adam(model[1].parameters(),lr=0.0001,betas=(0.5,0.999))\n",
    "optim_discriminator = torch.optim.Adam(model[0].parameters(),lr=0.0001,betas=(0.5,0.999))\n",
    "finished = 0\n",
    "for ep in range(1):\n",
    "    try:\n",
    "        with tqdm(train_dataloader) as tepoch:\n",
    "            tepoch.set_description(f'Epoch {ep+1} : ')\n",
    "            for X, _ in tepoch:\n",
    "                loss = discriminator_epoch(model, X.to(device), sample(batch_size), optim_discriminator).item(\n",
    "                ), generator_epoch(model, X.to(device), sample(batch_size), optim_generator).item()\n",
    "                tepoch.set_postfix({'loss': loss})\n",
    "                tepoch.refresh()\n",
    "                i += 1\n",
    "                if i % 10 == 0:\n",
    "                    torch.save(model.state_dict(), modelpath)\n",
    "            if finished:\n",
    "                break\n",
    "    except:\n",
    "        pass\n"
   ]
  },
  {
   "cell_type": "code",
   "execution_count": 23,
   "metadata": {},
   "outputs": [
    {
     "name": "stderr",
     "output_type": "stream",
     "text": [
      "Epoch 1 : : 100%|█████████▉| 508/509 [09:38<00:01,  1.14s/it, loss=(3.025063779205084e-05, -0.4549545645713806)]  \n",
      "Epoch 2 : : 100%|█████████▉| 508/509 [09:36<00:01,  1.14s/it, loss=(5.620997399091721e-06, -0.48597556352615356)]  \n",
      "Epoch 3 : : 100%|█████████▉| 508/509 [09:38<00:01,  1.14s/it, loss=(3.88571061193943e-06, -0.49640506505966187)]   \n",
      "Epoch 4 : : 100%|█████████▉| 508/509 [09:37<00:01,  1.14s/it, loss=(7.05057755112648e-06, -0.4995293617248535)]    \n",
      "Epoch 5 : : 100%|█████████▉| 508/509 [09:37<00:01,  1.14s/it, loss=(-1.050299033522606e-06, -0.5001227855682373)] \n",
      "Epoch 6 : : 100%|█████████▉| 508/509 [09:37<00:01,  1.14s/it, loss=(-1.318054273724556e-06, -0.5012238621711731)] \n",
      "Epoch 7 : : 100%|█████████▉| 508/509 [09:37<00:01,  1.14s/it, loss=(1.7872080206871033e-06, -0.501354992389679)]  \n",
      "Epoch 8 : : 100%|█████████▉| 508/509 [09:38<00:01,  1.14s/it, loss=(-1.6065314412117004e-08, -0.503312349319458)]  \n",
      "Epoch 9 : :  42%|████▏     | 212/509 [04:02<05:39,  1.14s/it, loss=(7.119961082935333e-07, -0.502670168876648)]   \n",
      "Epoch 10 : :   2%|▏         | 10/509 [00:11<09:25,  1.13s/it, loss=(2.0600855350494385e-06, -0.5026862621307373)]"
     ]
    }
   ],
   "source": [
    "model = Sequential(Discriminator(), Generator()).to(device)\n",
    "\n",
    "try:\n",
    "    model.load_state_dict(torch.load(modelpath))\n",
    "except:\n",
    "    print('incorrect modelpath')\n",
    "\n",
    "model[0].add_block(512,512)\n",
    "model[1].add_block(512,512, 8)    \n",
    "\n",
    "i = 0\n",
    "batch_size = 256\n",
    "train_dataloader = DataLoader(dataset_2, batch_size=batch_size)\n",
    "optim_generator = torch.optim.Adam(model[1].parameters(),lr=0.0001,betas=(0.5,0.999))\n",
    "optim_discriminator = torch.optim.Adam(model[0].parameters(),lr=0.0001,betas=(0.5,0.999))\n",
    "alpha = 0\n",
    "finished = 0\n",
    "for ep in range(11):\n",
    "    try:\n",
    "        with tqdm(train_dataloader) as tepoch:\n",
    "            tepoch.set_description(f'Epoch {ep+1} : ')\n",
    "            for X, _ in tepoch:\n",
    "                if alpha>1:\n",
    "                    finished=1\n",
    "                    break\n",
    "                loss = discriminator_epoch(model, X.to(device), sample(batch_size), optim_discriminator, alpha).item(\n",
    "                ), generator_epoch(model, X.to(device), sample(batch_size), optim_generator, alpha).item()\n",
    "                g_loss = loss[1]\n",
    "                count = 0\n",
    "                while count <= 4 and g_loss>=-0.6:\n",
    "                    g_loss = generator_epoch(model, X.to(device), sample(batch_size), optim_generator, alpha).item()\n",
    "                    count += 1\n",
    "                tepoch.set_postfix({'loss': loss})\n",
    "                tepoch.refresh()\n",
    "                i += 1\n",
    "                if i % 10 == 0:\n",
    "                    torch.save(model.state_dict(), modelpath2)\n",
    "            if finished:\n",
    "                break\n",
    "        alpha += 0.2\n",
    "    except:\n",
    "        pass\n",
    "\n"
   ]
  },
  {
   "cell_type": "code",
   "execution_count": null,
   "metadata": {},
   "outputs": [],
   "source": [
    "model = Sequential(Discriminator(), Generator()).to(device)\n",
    "model[0].add_block(512,512)\n",
    "model[1].add_block(512,512, 8)\n",
    "try:\n",
    "    model.load_state_dict(torch.load(modelpath2))\n",
    "except:\n",
    "    print('incorrect modelpath')"
   ]
  },
  {
   "cell_type": "code",
   "execution_count": null,
   "metadata": {},
   "outputs": [],
   "source": [
    "Y = model[1](sample(1),0).squeeze()\n",
    "plt.imshow(Y.detach().cpu().mean(dim=0).squeeze(),'gray')\n",
    "plt.show()"
   ]
  },
  {
   "cell_type": "code",
   "execution_count": null,
   "metadata": {},
   "outputs": [],
   "source": [
    "plt.imshow(dataset_2[5346][0].mean(dim=0).squeeze(),'gray')\n",
    "plt.show()"
   ]
  },
  {
   "cell_type": "code",
   "execution_count": null,
   "metadata": {},
   "outputs": [],
   "source": [
    "model = Sequential(Discriminator(), Generator()).to(device)\n",
    "model[0].add_block(512,512)\n",
    "model[1].add_block(512,512, 8)\n",
    "try:\n",
    "    model.load_state_dict(torch.load(modelpath2))\n",
    "except:\n",
    "    print('incorrect modelpath')\n",
    "i = 0\n",
    "model[0].add_block(512,512)\n",
    "model[1].add_block(512,512, 16)\n",
    "batch_size = 128\n",
    "bitmoji_transform_3 = transforms.Compose([transforms.Resize((16,16)), transforms.ToTensor()])\n",
    "dataset_3 = datasets.ImageFolder(root=datapath, transform=bitmoji_transform_3)\n",
    "train_dataloader = DataLoader(dataset_3, batch_size=batch_size)\n",
    "optim_generator = torch.optim.Adam(model[1].parameters(),lr=0.0001,betas=(0.5,0.999))\n",
    "optim_discriminator = torch.optim.Adam(model[0].parameters(),lr=0.0001,betas=(0.5,0.999))\n",
    "alpha = 0\n",
    "for ep in range(50):\n",
    "    with tqdm(train_dataloader) as tepoch:\n",
    "        tepoch.set_description(f'Epoch {ep+1} : ')\n",
    "        for X, _ in tepoch:\n",
    "            if alpha > 1:\n",
    "                break\n",
    "            loss = discriminator_epoch(model, X.to(device), sample(batch_size), optim_discriminator, alpha).item(\n",
    "            ), generator_epoch(model, X.to(device), sample(batch_size), optim_generator, alpha).item()\n",
    "            g_loss = loss[1]\n",
    "            count = 0\n",
    "            while count <= 4 and g_loss>=-0.6:\n",
    "                g_loss = generator_epoch(model, X.to(device), sample(batch_size), optim_generator, alpha).item()\n",
    "                count += 1\n",
    "            tepoch.set_postfix({'loss': loss})\n",
    "            tepoch.refresh()\n",
    "            i += 1\n",
    "            if i % 10 == 0:\n",
    "                torch.save(model.state_dict(), modelpath2)\n",
    "        alpha += 0.2\n",
    "\n"
   ]
  }
 ],
 "metadata": {
  "kernelspec": {
   "display_name": "Python 3.8.13 ('mtech-ai')",
   "language": "python",
   "name": "python3"
  },
  "language_info": {
   "codemirror_mode": {
    "name": "ipython",
    "version": 3
   },
   "file_extension": ".py",
   "mimetype": "text/x-python",
   "name": "python",
   "nbconvert_exporter": "python",
   "pygments_lexer": "ipython3",
   "version": "3.8.13"
  },
  "orig_nbformat": 4,
  "vscode": {
   "interpreter": {
    "hash": "35c8a66ee3e6b3d2731e4e1d203879b7efbef813706e5767cef09de0fdb5c447"
   }
  }
 },
 "nbformat": 4,
 "nbformat_minor": 2
}
