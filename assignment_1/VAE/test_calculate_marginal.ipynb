{
 "cells": [
  {
   "cell_type": "code",
   "execution_count": 1,
   "metadata": {},
   "outputs": [
    {
     "name": "stderr",
     "output_type": "stream",
     "text": [
      "/home/adarsh/anaconda3/envs/mtech-ai/lib/python3.8/site-packages/tqdm/auto.py:22: TqdmWarning: IProgress not found. Please update jupyter and ipywidgets. See https://ipywidgets.readthedocs.io/en/stable/user_install.html\n",
      "  from .autonotebook import tqdm as notebook_tqdm\n"
     ]
    }
   ],
   "source": [
    "import torch\n",
    "from torch import nn\n",
    "from MSE_VAE2 import Encoder\n",
    "from MSE_VAE2 import Decoder\n",
    "from MSE_VAE2 import posteriors\n",
    "import sklearn\n",
    "from torch.utils.data import DataLoader\n",
    "from torchvision import datasets, transforms\n",
    "\n",
    "device = 'cuda'\n",
    "path = '/home/adarsh/ADRL/datasets/img_align_celeba'\n",
    "model_path = '/home/adarsh/ADRL/assignment_1/VAE/model_celeba2318.pt'\n",
    "\n",
    "model = nn.Sequential(\n",
    "    Encoder(),\n",
    "    Decoder()\n",
    ")\n",
    "\n",
    "model.to(device)\n",
    "model.load_state_dict(torch.load(model_path))\n",
    "\n",
    "celebA_transform = transforms.Compose(\n",
    "        [transforms.Resize(128), transforms.CenterCrop(128) , transforms.ToTensor()])\n",
    "celebA_dataset = datasets.ImageFolder(\n",
    "    root=path, transform=celebA_transform)\n",
    "dataloader = DataLoader(celebA_dataset, batch_size=4096)\n"
   ]
  },
  {
   "cell_type": "code",
   "execution_count": 12,
   "metadata": {},
   "outputs": [
    {
     "ename": "AttributeError",
     "evalue": "'ImageFolder' object has no attribute 'shape'",
     "output_type": "error",
     "traceback": [
      "\u001b[0;31m---------------------------------------------------------------------------\u001b[0m",
      "\u001b[0;31mAttributeError\u001b[0m                            Traceback (most recent call last)",
      "\u001b[1;32m/home/adarsh/ADRL/assignment_1/VAE/test_calculate_marginal.ipynb Cell 2\u001b[0m in \u001b[0;36m<cell line: 1>\u001b[0;34m()\u001b[0m\n\u001b[0;32m----> <a href='vscode-notebook-cell://ssh-remote%2B10.33.34.55/home/adarsh/ADRL/assignment_1/VAE/test_calculate_marginal.ipynb#X10sdnNjb2RlLXJlbW90ZQ%3D%3D?line=0'>1</a>\u001b[0m \u001b[39mprint\u001b[39m(celebA_dataset\u001b[39m.\u001b[39;49mshape)\n",
      "\u001b[0;31mAttributeError\u001b[0m: 'ImageFolder' object has no attribute 'shape'"
     ]
    }
   ],
   "source": []
  },
  {
   "cell_type": "code",
   "execution_count": 2,
   "metadata": {},
   "outputs": [
    {
     "name": "stdout",
     "output_type": "stream",
     "text": [
      "torch.Size([202599, 128]) torch.Size([202599, 49152])\n"
     ]
    }
   ],
   "source": [
    "Z = torch.zeros((0, 128))\n",
    "x = torch.zeros((0, 49152))\n",
    "\n",
    "for X,_ in dataloader:\n",
    "    X = X.to(device)\n",
    "    mean, std = model[0](X)\n",
    "    z = posteriors(mean, std, 1)\n",
    "    bs = X.shape[0]\n",
    "    Z = torch.cat((Z, z.detach().cpu().view(bs, -1)))\n",
    "    x = torch.cat((x, X.detach().cpu().view(bs,-1)))\n",
    "\n",
    "print(Z.shape, x.shape)"
   ]
  },
  {
   "cell_type": "code",
   "execution_count": 3,
   "metadata": {},
   "outputs": [
    {
     "name": "stdout",
     "output_type": "stream",
     "text": [
      "(202599, 2)\n"
     ]
    }
   ],
   "source": [
    "from sklearn.decomposition import PCA\n",
    "\n",
    "z_PCA = PCA(2)\n",
    "x_PCA = PCA(4)\n",
    "\n",
    "z_PCA = z_PCA.fit(Z.numpy())\n",
    "x_PCA = x_PCA.fit(x.numpy())\n",
    "\n",
    "all_z_PCA = z_PCA.transform(Z.numpy())\n",
    "print(all_z_PCA.shape)"
   ]
  },
  {
   "cell_type": "code",
   "execution_count": 4,
   "metadata": {},
   "outputs": [
    {
     "name": "stdout",
     "output_type": "stream",
     "text": [
      "(20259,)\n"
     ]
    }
   ],
   "source": [
    "import numpy as np\n",
    "index = np.random.choice(Z.shape[0], Z.shape[0]//10, replace=False) \n",
    "\n",
    "z = all_z_PCA[index]\n",
    "\n",
    "from sklearn.mixture import GaussianMixture as GMM\n",
    "gmm = GMM(n_components=10)\n",
    "gmm.fit(z)\n",
    "labels = gmm.predict(z)\n",
    "print(labels.shape)"
   ]
  },
  {
   "cell_type": "code",
   "execution_count": 5,
   "metadata": {},
   "outputs": [],
   "source": [
    "import matplotlib.pyplot as plt \n",
    "\n",
    "# z1 = gmm.sample()[0].squeeze()\n",
    "# Y = model[1](torch.tensor(z1).float().to(device))\n",
    "# plt.imshow(Y.squeeze().detach().cpu().numpy().T)\n",
    "# plt.show()"
   ]
  },
  {
   "cell_type": "code",
   "execution_count": 12,
   "metadata": {},
   "outputs": [
    {
     "name": "stdout",
     "output_type": "stream",
     "text": [
      "tensor([1.4381e-23])\n",
      "tensor([2.9066e-24])\n",
      "tensor([6.0882e-28])\n",
      "tensor([6.6265e-24])\n",
      "tensor([2.0169e-25])\n",
      "tensor([1.3046e-29])\n",
      "tensor([1.0164e-21])\n",
      "tensor([5.5556e-22])\n",
      "tensor([6.4115e-29])\n",
      "tensor([7.4224e-28])\n"
     ]
    }
   ],
   "source": [
    "from torch.distributions.multivariate_normal import MultivariateNormal as MN\n",
    "import math\n",
    "\n",
    "def q(z):\n",
    "    z = z.reshape(1,-1).cpu().detach().numpy()\n",
    "    z = z_PCA.transform(z)\n",
    "    out = gmm.score(z)\n",
    "    return np.exp(out)\n",
    "\n",
    "def p_theta(z):\n",
    "    z = z.cpu().detach().numpy()\n",
    "    z = z_PCA.transform(z)\n",
    "    p_theta = MN(torch.zeros(z.shape[1]), torch.eye(z.shape[1]))\n",
    "    out = p_theta.log_prob(torch.tensor(z))\n",
    "\n",
    "    return np.exp(out)\n",
    "\n",
    "def p_theta_given_z(x, z):\n",
    "    z = z.to(device)\n",
    "    mean = model[1](z.float()).cpu().detach().numpy()\n",
    "\n",
    "    mean = mean.flatten().reshape(1, -1)\n",
    "    x = x.cpu().detach().numpy().flatten().reshape(1, -1)\n",
    "    mean = x_PCA.transform(mean)\n",
    "    x = x_PCA.transform(x)\n",
    "\n",
    "    p_theta = MN(torch.tensor(mean), torch.eye(mean.shape[1]))\n",
    "    log_prob = p_theta.log_prob(torch.tensor(x))\n",
    "\n",
    "    return np.exp(log_prob)\n",
    "\n",
    "def get_marginal_likelihood(x_i):\n",
    "    L = 1000\n",
    "    sum = 0\n",
    "    mean, std = model[0](x_i.to(device))\n",
    "    for i in range(L):\n",
    "        z = posteriors(mean, std, 1)\n",
    "        a = q(z)\n",
    "        b = p_theta(z)\n",
    "        c = p_theta_given_z(x_i, z)\n",
    "        sum += a/(b*c)\n",
    "\n",
    "    return L/sum\n",
    "\n",
    "for X,_ in dataloader:\n",
    "    for i in range(10):\n",
    "        input = X[i].reshape(1, 3, 128, 128)\n",
    "        print(get_marginal_likelihood(input))\n",
    "    break\n"
   ]
  },
  {
   "cell_type": "code",
   "execution_count": 10,
   "metadata": {},
   "outputs": [
    {
     "name": "stdout",
     "output_type": "stream",
     "text": [
      "p_theta tensor([-187.2930]) tensor([0.])\n"
     ]
    }
   ],
   "source": [
    "z = torch.randn(1, 128)\n",
    "p_theta = MN(torch.zeros(128), torch.eye(128))\n",
    "out = p_theta.log_prob(z.float())\n",
    "print(\"p_theta\", out, torch.exp(out))"
   ]
  }
 ],
 "metadata": {
  "kernelspec": {
   "display_name": "Python 3.10.4 ('adarsh': conda)",
   "language": "python",
   "name": "python3"
  },
  "language_info": {
   "codemirror_mode": {
    "name": "ipython",
    "version": 3
   },
   "file_extension": ".py",
   "mimetype": "text/x-python",
   "name": "python",
   "nbconvert_exporter": "python",
   "pygments_lexer": "ipython3",
   "version": "3.10.4"
  },
  "orig_nbformat": 4,
  "vscode": {
   "interpreter": {
    "hash": "996adb597877041c5edd8d9ece12bc8d30466ad50ad58f1772dd77e49ff523c9"
   }
  }
 },
 "nbformat": 4,
 "nbformat_minor": 2
}
